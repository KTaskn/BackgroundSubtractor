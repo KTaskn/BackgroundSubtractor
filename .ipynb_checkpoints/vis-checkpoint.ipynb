{
 "cells": [
  {
   "cell_type": "code",
   "execution_count": 1,
   "id": "f50961f2",
   "metadata": {},
   "outputs": [],
   "source": [
    "%matplotlib inline\n",
    "import matplotlib.pyplot as plt\n",
    "import cv2\n",
    "from glob import glob\n",
    "import numpy as np\n",
    "\n",
    "# images = sorted(glob(\"/datasets/UCSD_Anomaly_Dataset_v1p2/UCSDped1/Train/Train001/*.tif\"))\n",
    "\n",
    "# fgbg = cv2.createBackgroundSubtractorMOG2()\n",
    "# for path in images:\n",
    "#     img = cv2.imread(path)\n",
    "#     fgmask = fgbg.apply(img)\n",
    "#     mask = cv2.cvtColor((fgmask > 1).astype(np.uint8), cv2.COLOR_GRAY2BGR)\n",
    "#     plt.imshow(mask * img)\n",
    "#     plt.show()"
   ]
  },
  {
   "cell_type": "code",
   "execution_count": 2,
   "id": "fca0722a",
   "metadata": {},
   "outputs": [
    {
     "ename": "TypeError",
     "evalue": "__init__() got an unexpected keyword argument 'vis'",
     "output_type": "error",
     "traceback": [
      "\u001b[0;31m---------------------------------------------------------------------------\u001b[0m",
      "\u001b[0;31mTypeError\u001b[0m                                 Traceback (most recent call last)",
      "\u001b[0;32m/tmp/ipykernel_34196/178892161.py\u001b[0m in \u001b[0;36m<module>\u001b[0;34m\u001b[0m\n\u001b[1;32m      4\u001b[0m \u001b[0mimages\u001b[0m \u001b[0;34m=\u001b[0m \u001b[0msorted\u001b[0m\u001b[0;34m(\u001b[0m\u001b[0mglob\u001b[0m\u001b[0;34m(\u001b[0m\u001b[0;34m\"/datasets/UCSD_Anomaly_Dataset_v1p2/UCSDped1/Test/Test032/*.tif\"\u001b[0m\u001b[0;34m)\u001b[0m\u001b[0;34m)\u001b[0m\u001b[0;34m\u001b[0m\u001b[0;34m\u001b[0m\u001b[0m\n\u001b[1;32m      5\u001b[0m \u001b[0;34m\u001b[0m\u001b[0m\n\u001b[0;32m----> 6\u001b[0;31m \u001b[0mds\u001b[0m \u001b[0;34m=\u001b[0m \u001b[0mDataSet\u001b[0m\u001b[0;34m(\u001b[0m\u001b[0mimages\u001b[0m\u001b[0;34m,\u001b[0m \u001b[0;34m[\u001b[0m\u001b[0;36m0\u001b[0m\u001b[0;34m]\u001b[0m \u001b[0;34m*\u001b[0m \u001b[0mlen\u001b[0m\u001b[0;34m(\u001b[0m\u001b[0mimages\u001b[0m\u001b[0;34m)\u001b[0m\u001b[0;34m,\u001b[0m \u001b[0mis_video\u001b[0m\u001b[0;34m=\u001b[0m\u001b[0;32mFalse\u001b[0m\u001b[0;34m,\u001b[0m \u001b[0mvis\u001b[0m\u001b[0;34m=\u001b[0m\u001b[0;32mTrue\u001b[0m\u001b[0;34m)\u001b[0m\u001b[0;34m\u001b[0m\u001b[0;34m\u001b[0m\u001b[0m\n\u001b[0m\u001b[1;32m      7\u001b[0m \u001b[0mds\u001b[0m\u001b[0;34m\u001b[0m\u001b[0;34m\u001b[0m\u001b[0m\n",
      "\u001b[0;31mTypeError\u001b[0m: __init__() got an unexpected keyword argument 'vis'"
     ]
    }
   ],
   "source": [
    "from dataset import DataSet\n",
    "\n",
    "from glob import glob\n",
    "images = sorted(glob(\"/datasets/UCSD_Anomaly_Dataset_v1p2/UCSDped1/Test/Test032/*.tif\"))\n",
    "\n",
    "ds = DataSet(images, [0] * len(images), is_video=False, visualize=True)\n",
    "ds"
   ]
  },
  {
   "cell_type": "code",
   "execution_count": null,
   "id": "21b45327",
   "metadata": {},
   "outputs": [],
   "source": [
    "img, label = ds.__getitem__(5)\n",
    "display(img.shape)\n",
    "plt.imshow(img[0, 0])\n",
    "plt.show()\n",
    "\n",
    "plt.imshow(img[0, 1])\n",
    "plt.show()"
   ]
  },
  {
   "cell_type": "code",
   "execution_count": null,
   "id": "35bfcd28",
   "metadata": {},
   "outputs": [],
   "source": [
    "np.random.randn(2, 158, 238, 3).shape"
   ]
  },
  {
   "cell_type": "code",
   "execution_count": null,
   "id": "a6752a1b",
   "metadata": {},
   "outputs": [],
   "source": [
    "np.random.randn(2, 158, 238, 3).transpose(0, 3, 1, 2).shape"
   ]
  },
  {
   "cell_type": "code",
   "execution_count": null,
   "id": "ef089e09",
   "metadata": {},
   "outputs": [],
   "source": []
  }
 ],
 "metadata": {
  "kernelspec": {
   "display_name": "Python 3 (ipykernel)",
   "language": "python",
   "name": "python3"
  },
  "language_info": {
   "codemirror_mode": {
    "name": "ipython",
    "version": 3
   },
   "file_extension": ".py",
   "mimetype": "text/x-python",
   "name": "python",
   "nbconvert_exporter": "python",
   "pygments_lexer": "ipython3",
   "version": "3.8.8"
  }
 },
 "nbformat": 4,
 "nbformat_minor": 5
}
